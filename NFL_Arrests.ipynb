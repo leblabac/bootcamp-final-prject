{
 "cells": [
  {
   "cell_type": "code",
   "execution_count": 1,
   "id": "42971dc0",
   "metadata": {},
   "outputs": [],
   "source": [
    "# Import Dependencies\n",
    "from splinter import Browser\n",
    "from bs4 import BeautifulSoup as soup\n",
    "from webdriver_manager.chrome import ChromeDriverManager\n",
    "import requests\n",
    "import pandas as pd"
   ]
  },
  {
   "cell_type": "code",
   "execution_count": 2,
   "id": "9f6735dd",
   "metadata": {},
   "outputs": [
    {
     "name": "stderr",
     "output_type": "stream",
     "text": [
      "\n",
      "\n",
      "====== WebDriver manager ======\n",
      "Current google-chrome version is 98.0.4758\n",
      "Get LATEST chromedriver version for 98.0.4758 google-chrome\n",
      "Driver [C:\\Users\\krist\\.wdm\\drivers\\chromedriver\\win32\\98.0.4758.80\\chromedriver.exe] found in cache\n"
     ]
    }
   ],
   "source": [
    "# Set up Splinter\n",
    "executable_path = {'executable_path': ChromeDriverManager().install()}\n",
    "browser = Browser('chrome', **executable_path, headless=False)"
   ]
  },
  {
   "cell_type": "code",
   "execution_count": 3,
   "id": "2336d5ab",
   "metadata": {},
   "outputs": [],
   "source": [
    "# Visit the Quotes to Scrape site\n",
    "url = 'https://databases.usatoday.com/nfl-arrests/'\n",
    "browser.visit(url)\n",
    "# Create object page\n",
    "# page = requests.get(url)"
   ]
  },
  {
   "cell_type": "code",
   "execution_count": null,
   "id": "79b4642a",
   "metadata": {},
   "outputs": [],
   "source": [
    "# # Parse the HTML\n",
    "# html = browser.html\n",
    "# html_soup = soup(html, 'html.parser')\n",
    "\n",
    "# parser-lxml = Change html to Python friendly format\n",
    "# Obtain page's information\n",
    "html_soup = soup(page.text, 'html.parser')\n",
    "print(html_soup.prettify())"
   ]
  },
  {
   "cell_type": "code",
   "execution_count": null,
   "id": "cc9bc35c",
   "metadata": {},
   "outputs": [],
   "source": [
    "# Obtain information from tag <table>\n",
    "table = html_soup.find('div', id='csp-data', class_='col-12 text-right')\n",
    "print(table)"
   ]
  },
  {
   "cell_type": "code",
   "execution_count": null,
   "id": "09de4ff3",
   "metadata": {},
   "outputs": [],
   "source": []
  },
  {
   "cell_type": "code",
   "execution_count": null,
   "id": "25184ac8",
   "metadata": {},
   "outputs": [],
   "source": []
  },
  {
   "cell_type": "code",
   "execution_count": null,
   "id": "69b0818d",
   "metadata": {},
   "outputs": [],
   "source": [
    "df = pd.read_html('https://databases.usatoday.com/nfl-arrests/')[0]\n",
    "df.columns=['Date', 'First Name', 'Last Name']\n",
    "# df.set_index('description', inplace=True)\n",
    "df"
   ]
  },
  {
   "cell_type": "code",
   "execution_count": null,
   "id": "d1b3a53a",
   "metadata": {},
   "outputs": [],
   "source": [
    "# Scrape the table\n",
    "arrest_table = html_soup.find('div', class_='csp-data-table')\n",
    "print(arrest_table.prettify())"
   ]
  },
  {
   "cell_type": "code",
   "execution_count": null,
   "id": "22f45dcf",
   "metadata": {},
   "outputs": [],
   "source": [
    "arrest_df = pd.DataFrame(arrest_table)\n",
    "arrest_df"
   ]
  },
  {
   "cell_type": "code",
   "execution_count": null,
   "id": "d962540e",
   "metadata": {},
   "outputs": [],
   "source": []
  }
 ],
 "metadata": {
  "kernelspec": {
   "display_name": "PythonData",
   "language": "python",
   "name": "pythondata"
  },
  "language_info": {
   "codemirror_mode": {
    "name": "ipython",
    "version": 3
   },
   "file_extension": ".py",
   "mimetype": "text/x-python",
   "name": "python",
   "nbconvert_exporter": "python",
   "pygments_lexer": "ipython3",
   "version": "3.7.11"
  }
 },
 "nbformat": 4,
 "nbformat_minor": 5
}
