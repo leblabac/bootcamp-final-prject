{
 "cells": [
  {
   "cell_type": "code",
   "execution_count": null,
   "metadata": {},
   "outputs": [],
   "source": [
    "# Import Dependencies\\n\",\n",
    "import pandas as pd\n",
    "import numpy as np"
   ]
  },
  {
   "cell_type": "code",
   "execution_count": null,
   "metadata": {},
   "outputs": [],
   "source": [
    "# Import our data into pandas from CSV\\n\",\n",
    "nfl_standings_path = 'nfl_standings.csv'\n",
    "nfl_standings_df = pd.read_csv(nfl_standings_path)\n",
    "\n",
    "nfl_standings_df"
   ]
  },
  {
   "cell_type": "code",
   "execution_count": null,
   "metadata": {},
   "outputs": [],
   "source": [
    "# Change column headings\n",
    "nfl_standings_df = nfl_standings_df.rename(columns={\"season\":\"year\", \"pct\":\"win %\"})\n",
    "nfl_standings_df"
   ]
  },
  {
   "cell_type": "code",
   "execution_count": null,
   "metadata": {},
   "outputs": [],
   "source": [
    "# Combine records of renamed teams\n",
    "nfl_standings_df[\"team\"].replace({\"LA\":\"LAR/STL\", \"STL\":\"LAR/STL\", \"LV\": \"LV/OAK\",\"OAK\": \"LV/OAK\", \"SD\":\"LAC/SD\", \"LAC\":\"LAC/SD\"},inplace=True),\n",
    "nfl_standings_df"
   ]
  },
  {
   "cell_type": "code",
   "execution_count": null,
   "metadata": {},
   "outputs": [],
   "source": []
  },
  {
   "cell_type": "code",
   "execution_count": null,
   "metadata": {},
   "outputs": [],
   "source": [
    "# Drop years of data prior to 2011,\n",
    "# Drop data (rows) prior to 2011,\n",
    "\n",
    "nfl_standings_df.drop(nfl_standings_df.loc[nfl_standings_df[\"year\"] < 2011].index, inplace=True)\n",
    "nfl_standings_df"
   ]
  },
  {
   "cell_type": "code",
   "execution_count": null,
   "metadata": {},
   "outputs": [],
   "source": [
    "# create conditions for superbowl win for teams that made playoffs\n",
    "# superbowl_conditions = [\n",
    "#         (nfl_standings_df[\"playoff\"] == \"WonSB\"),\n",
    "#         (nfl_standings_df[\"playoff\"] == \"LostSB\"),\n",
    "#         (nfl_standings_df[\"playoff\"] == \"LostCC\"),\n",
    "#         (nfl_standings_df[\"playoff\"] == \"LostDV\"),\n",
    "#         (nfl_standings_df[\"playoff\"] == \"LostWC\")\n",
    "#     ]"
   ]
  },
  {
   "cell_type": "code",
   "execution_count": null,
   "metadata": {},
   "outputs": [],
   "source": [
    "# Create a list of the values to assign for each condition\n",
    "values = [\"Yes\", \"No\", \"No\", \"No\", \"No\"]"
   ]
  },
  {
   "cell_type": "code",
   "execution_count": null,
   "metadata": {},
   "outputs": [],
   "source": [
    "# # create a new column and use np.select to assign values for winning column\\n\",\n",
    "# nfl_standings_df[\"won superbowl\"] = np.select(superbowl_conditions, values),\n",
    "# # replace null values with No for teams that did not make playoffs\\n\",\n",
    "# nfl_standings_df[\"won superbowl\"].replace({\"0\":\"No\"}, inplace = True),\n",
    "\n",
    "# # display updated DataFrame\\n\",\n",
    "# nfl_standings_df.head"
   ]
  },
  {
   "cell_type": "code",
   "execution_count": null,
   "metadata": {},
   "outputs": [],
   "source": [
    "# Add column for superbowl champions"
   ]
  },
  {
   "cell_type": "code",
   "execution_count": null,
   "metadata": {},
   "outputs": [],
   "source": [
    "# # Create a list of the values to assign for each condition\\n\",\n",
    "# values = [\"Yes\", \"No\", \"No\", \"No\", \"No\"],\n",
    "\n",
    "# # create a new column and use np.select to assign values for winning column\\n\",\n",
    "# nfl_standings_df[\"won superbowl\"] = np.select(superbowl_conditions, values),\n",
    "\n",
    "# # replace null values with No for teams that did not make playoffs\\n\",\n",
    "# nfl_standings_df[\"won superbowl\"].replace({\"0\":\"No\"}, inplace = True)\n",
    "# # display updated DataFrame\n",
    "# nfl_standings_df.head"
   ]
  },
  {
   "cell_type": "code",
   "execution_count": null,
   "metadata": {},
   "outputs": [],
   "source": [
    "# change playoff column to Yes\\n\",\n",
    "\n",
    "# nfl_standings_df[\"playoff\"] = pd.replace(nfl_standings_df[\"playoff\"] == \"LostSB\",\"Yes\", inplace=True),\n",
    "nfl_standings_df[\"playoff\"].replace({\"LostSB\":\"Yes\", \"LostCC\":\"Yes\", \"LostDV\": \"Yes\",\n",
    "    \"LostWC\": \"Yes\", \"WonSB\":\"Yes\" },inplace=True)\n",
    "    \n",
    "nfl_standings_df"
   ]
  },
  {
   "cell_type": "code",
   "execution_count": null,
   "metadata": {},
   "outputs": [],
   "source": [
    " # Replace NaN values with \"No\"\n",
    "\n",
    "# Change playoff column to No,\n",
    "\n",
    "nfl_standings_df[\"playoff\"].fillna(\"No\", inplace = True)\n",
    "nfl_standings_df"
   ]
  },
  {
   "cell_type": "code",
   "execution_count": null,
   "metadata": {},
   "outputs": [],
   "source": [
    "# Checking \"playoff\" column values to make sure previous cell was successful\n",
    "nfl_standings_df[\"playoff\"].values"
   ]
  },
  {
   "cell_type": "code",
   "execution_count": null,
   "metadata": {},
   "outputs": [],
   "source": [
    "# create new colum for \"superbowl winner\"\\\n",
    "# Polulate column with superbown winner \"yes\" and \"No\" accordingly\n",
    "#(code to be written here)"
   ]
  },
  {
   "cell_type": "code",
   "execution_count": null,
   "metadata": {},
   "outputs": [],
   "source": []
  },
  {
   "cell_type": "code",
   "execution_count": null,
   "metadata": {},
   "outputs": [],
   "source": [
    "# export to csv\n",
    "nfl_standings_path = 'nfl_standings_r4.csv'\n",
    "nfl_standings_df.to_csv(nfl_standings_path)"
   ]
  },
  {
   "cell_type": "code",
   "execution_count": null,
   "metadata": {},
   "outputs": [],
   "source": []
  }
 ],
 "metadata": {
  "interpreter": {
   "hash": "4df7479b12ba08d56b07af279af4a65cbd62a6cc6d548f9006ecad18df9a24a4"
  },
  "kernelspec": {
   "display_name": "Python 3.9.10 64-bit (windows store)",
   "language": "python",
   "name": "python3"
  },
  "language_info": {
   "codemirror_mode": {
    "name": "ipython",
    "version": 3
   },
   "file_extension": ".py",
   "mimetype": "text/x-python",
   "name": "python",
   "nbconvert_exporter": "python",
   "pygments_lexer": "ipython3",
   "version": "3.9.10"
  },
  "orig_nbformat": 4
 },
 "nbformat": 4,
 "nbformat_minor": 2
}
